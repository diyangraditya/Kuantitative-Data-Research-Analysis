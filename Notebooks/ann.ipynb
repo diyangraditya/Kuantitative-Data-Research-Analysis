{
 "cells": [
  {
   "cell_type": "code",
   "id": "initial_id",
   "metadata": {
    "collapsed": true,
    "ExecuteTime": {
     "end_time": "2024-09-21T13:32:58.400670Z",
     "start_time": "2024-09-21T13:32:56.104211Z"
    }
   },
   "source": [
    "import pandas as pd \n",
    "import numpy as np\n",
    "import seaborn as sns\n",
    "import matplotlib.pyplot as plt\n",
    "import torch\n",
    "\n",
    "import warnings\n",
    "warnings.filterwarnings('ignore')"
   ],
   "outputs": [],
   "execution_count": 2
  },
  {
   "metadata": {
    "ExecuteTime": {
     "end_time": "2024-09-21T13:33:13.522642Z",
     "start_time": "2024-09-21T13:33:12.157356Z"
    }
   },
   "cell_type": "code",
   "source": [
    "cuda = 'cida' if torch.cuda.is_available() else 'cpu'\n",
    "cuda"
   ],
   "id": "cd3501fc6b58b87b",
   "outputs": [
    {
     "data": {
      "text/plain": [
       "'cida'"
      ]
     },
     "execution_count": 3,
     "metadata": {},
     "output_type": "execute_result"
    }
   ],
   "execution_count": 3
  }
 ],
 "metadata": {
  "kernelspec": {
   "display_name": "Python 3",
   "language": "python",
   "name": "python3"
  },
  "language_info": {
   "codemirror_mode": {
    "name": "ipython",
    "version": 2
   },
   "file_extension": ".py",
   "mimetype": "text/x-python",
   "name": "python",
   "nbconvert_exporter": "python",
   "pygments_lexer": "ipython2",
   "version": "2.7.6"
  }
 },
 "nbformat": 4,
 "nbformat_minor": 5
}
